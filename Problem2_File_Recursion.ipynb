{
 "cells": [
  {
   "cell_type": "markdown",
   "metadata": {},
   "source": [
    "##  Finding Files\n",
    "\n",
    "For this problem, the goal is to write code for finding all files under a directory (and all directories beneath it) that end with \".c\""
   ]
  },
  {
   "cell_type": "code",
   "execution_count": 2,
   "metadata": {},
   "outputs": [],
   "source": [
    "import os \n",
    "\n",
    "def find_files(suffix, path):\n",
    "    \"\"\"\n",
    "    Find all files beneath path with file name suffix.\n",
    "\n",
    "    Note that a path may contain further subdirectories\n",
    "    and those subdirectories may also contain further subdirectories.\n",
    "\n",
    "    There are no limit to the depth of the subdirectories can be.\n",
    "\n",
    "    Args:\n",
    "      suffix(str): suffix if the file name to be found\n",
    "      path(str): path of the file system\n",
    "\n",
    "    Returns:\n",
    "       a list of paths\n",
    "    \"\"\"\n",
    " \n",
    "    found_list = []\n",
    "    \n",
    "    items = os.listdir(path)    \n",
    "    for item in items: \n",
    "        \n",
    "        item_path = path+'/'+item\n",
    "    \n",
    "        if os.path.isfile(item_path):\n",
    "            if item.endswith(suffix):\n",
    "                found_list.append(item_path)\n",
    "        else:\n",
    "            list_to_add = find_files(suffix, item_path)\n",
    "            if len(list_to_add) > 0: \n",
    "                found_list.extend(list_to_add) \n",
    "\n",
    "    return found_list"
   ]
  },
  {
   "cell_type": "code",
   "execution_count": 3,
   "metadata": {},
   "outputs": [
    {
     "data": {
      "text/plain": [
       "['./testdir/subdir1/a.c',\n",
       " './testdir/subdir3/subsubdir1/b.c',\n",
       " './testdir/subdir5/a.c',\n",
       " './testdir/t1.c']"
      ]
     },
     "execution_count": 3,
     "metadata": {},
     "output_type": "execute_result"
    }
   ],
   "source": [
    "suffix = 'c'\n",
    "path = './testdir'\n",
    "\n",
    "find_files(suffix, path)"
   ]
  },
  {
   "cell_type": "code",
   "execution_count": 4,
   "metadata": {},
   "outputs": [
    {
     "data": {
      "text/plain": [
       "[]"
      ]
     },
     "execution_count": 4,
     "metadata": {},
     "output_type": "execute_result"
    }
   ],
   "source": [
    "suffix = 'a'\n",
    "path = './testdir'\n",
    "\n",
    "find_files(suffix, path)"
   ]
  },
  {
   "cell_type": "code",
   "execution_count": 5,
   "metadata": {},
   "outputs": [
    {
     "data": {
      "text/plain": [
       "['./testdir/subdir2/.gitkeep', './testdir/subdir4/.gitkeep']"
      ]
     },
     "execution_count": 5,
     "metadata": {},
     "output_type": "execute_result"
    }
   ],
   "source": [
    "suffix = 'p'\n",
    "path = './testdir'\n",
    "\n",
    "find_files(suffix, path)"
   ]
  },
  {
   "cell_type": "markdown",
   "metadata": {},
   "source": [
    "## Comment \n",
    "\n",
    "Used recurrsive algorithm since the depth of the directory is not sure. \n",
    "Considering the recurssivenessl, space complexity is O (m x n) where m is the number of directories and n is the number of files per directory. This can be simplified as O(N) where N is the total number of files. \n",
    "\n",
    "Time efficiency is O(n) where n is number of the files + directories"
   ]
  },
  {
   "cell_type": "code",
   "execution_count": null,
   "metadata": {},
   "outputs": [],
   "source": []
  }
 ],
 "metadata": {
  "kernelspec": {
   "display_name": "Python 3",
   "language": "python",
   "name": "python3"
  },
  "language_info": {
   "codemirror_mode": {
    "name": "ipython",
    "version": 3
   },
   "file_extension": ".py",
   "mimetype": "text/x-python",
   "name": "python",
   "nbconvert_exporter": "python",
   "pygments_lexer": "ipython3",
   "version": "3.7.4"
  }
 },
 "nbformat": 4,
 "nbformat_minor": 4
}
