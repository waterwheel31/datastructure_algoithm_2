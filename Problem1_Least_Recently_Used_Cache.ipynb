{
 "cells": [
  {
   "cell_type": "markdown",
   "metadata": {},
   "source": [
    "##  Least Recently Used Cache\n",
    "\n",
    "We have briefly discussed caching as part of a practice problem while studying hash maps.\n",
    "\n",
    "The lookup operation (i.e., get()) and put() / set() is supposed to be fast for a cache memory.\n",
    "\n",
    "While doing the get() operation, if the entry is found in the cache, it is known as a cache hit. If, however, the entry is not found, it is known as a cache miss.\n",
    "\n",
    "When designing a cache, we also place an upper bound on the size of the cache. If the cache is full and we want to add a new entry to the cache, we use some criteria to remove an element. After removing an element, we use the put() operation to insert the new element. The remove operation should also be fast.\n",
    "\n",
    "For our first problem, the goal will be to design a data structure known as a Least Recently Used (LRU) cache. An LRU cache is a type of cache in which we remove the least recently used entry when the cache memory reaches its limit. For the current problem, consider both get and set operations as an use operation.\n",
    "\n",
    "Your job is to use an appropriate data structure(s) to implement the cache.\n",
    "\n",
    "    In case of a cache hit, your get() operation should return the appropriate value.\n",
    "    In case of a cache miss, your get() should return -1.\n",
    "    While putting an element in the cache, your put() / set() operation must insert the element. If the cache is full, you must write code that removes the least recently used entry first and then insert the element.\n",
    "\n",
    "All operations must take O(1) time.\n",
    "\n",
    "For the current problem, you can consider the size of cache = 5."
   ]
  },
  {
   "cell_type": "code",
   "execution_count": 54,
   "metadata": {},
   "outputs": [
    {
     "name": "stdout",
     "output_type": "stream",
     "text": [
      "1\n",
      "2\n",
      "-1\n",
      "-1\n"
     ]
    },
    {
     "data": {
      "text/plain": [
       "-1"
      ]
     },
     "execution_count": 54,
     "metadata": {},
     "output_type": "execute_result"
    }
   ],
   "source": [
    "\n",
    "import numpy as np\n",
    "\n",
    "class Node():\n",
    "    def __init__(self, key=None, value=None ):\n",
    "        self.key = key\n",
    "        self.value = value\n",
    "        self.before = None\n",
    "        self.next = None \n",
    "\n",
    "class LRU_Cache(object):\n",
    "\n",
    "    def __init__(self, capacity):\n",
    "        # Initialize class variables\n",
    "        self.capacity = capacity\n",
    "        self.cache = dict()\n",
    "        \n",
    "        self.start = Node('START', 'Start')\n",
    "        self.end = Node('END', 'Start')\n",
    "        \n",
    "        self.start.next = self.end\n",
    "        self.end.before = self.start\n",
    "        \n",
    "    def get(self, key):\n",
    "        # Retrieve item from provided key. Return -1 if nonexistent. \n",
    "        \n",
    "        node = self.cache.get(key)\n",
    "                \n",
    "        if node is None: \n",
    "            print(-1)\n",
    "            return -1 \n",
    "        else:\n",
    "            print(node.value)\n",
    "            \n",
    "            node.before.next = node.next\n",
    "            node.next.before = node.before\n",
    "            \n",
    "            node.next = self.end\n",
    "            node.before = self.end.before\n",
    "            \n",
    "            self.end.before = node\n",
    "            self.end.before.next = node\n",
    "            \n",
    "            return node.value\n",
    "\n",
    "    def set(self, key, value):\n",
    "        # Set the value if the key is not present in the cache. If the cache is at capacity remove the oldest item. \n",
    "           \n",
    "                        \n",
    "        if self.cache.get(key) == None:\n",
    "            \n",
    "            new_node = Node(key, value)\n",
    "            \n",
    "            new_node.before = self.end.before\n",
    "            new_node.next = self.end\n",
    "            \n",
    "            self.end.before.next = new_node\n",
    "            self.end.before = new_node\n",
    "     \n",
    "            self.cache[key] = new_node\n",
    "            \n",
    "            if len(self.cache) > self.capacity:\n",
    "                \n",
    "                LRU = self.start.next.key\n",
    "                del self.cache[LRU]\n",
    "                \n",
    "                # delete the least recent used \n",
    "                object_to_delete = self.start.next \n",
    "                self.start.next = self.start.next.next\n",
    "                self.start.next.next.before = self.start\n",
    "                del object_to_delete\n",
    "                \n",
    "\n",
    "        \n",
    "our_cache = LRU_Cache(5)\n",
    "\n",
    "our_cache.set(1, 1);\n",
    "our_cache.set(2, 2);\n",
    "our_cache.set(3, 3);\n",
    "our_cache.set(4, 4);\n",
    "\n",
    "\n",
    "our_cache.get(1)       # returns 1\n",
    "our_cache.get(2)       # returns 2\n",
    "our_cache.get(9)      # returns -1 because 9 is not present in the cache\n",
    "\n",
    "our_cache.set(5, 5) \n",
    "our_cache.set(6, 6)\n",
    "\n",
    "our_cache.get(3)      # returns -1 because the cache reached it's capacity and 3 was the least recently used entry\n"
   ]
  },
  {
   "cell_type": "code",
   "execution_count": null,
   "metadata": {},
   "outputs": [],
   "source": []
  }
 ],
 "metadata": {
  "kernelspec": {
   "display_name": "Python 3",
   "language": "python",
   "name": "python3"
  },
  "language_info": {
   "codemirror_mode": {
    "name": "ipython",
    "version": 3
   },
   "file_extension": ".py",
   "mimetype": "text/x-python",
   "name": "python",
   "nbconvert_exporter": "python",
   "pygments_lexer": "ipython3",
   "version": "3.7.4"
  }
 },
 "nbformat": 4,
 "nbformat_minor": 4
}
