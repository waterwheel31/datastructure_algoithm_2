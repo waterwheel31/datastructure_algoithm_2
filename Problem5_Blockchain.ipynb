{
 "cells": [
  {
   "cell_type": "markdown",
   "metadata": {},
   "source": [
    "## Blockchain\n",
    "\n",
    "A Blockchain is a sequential chain of records, similar to a linked list. Each block contains some information and how it is connected related to the other blocks in the chain. Each block contains a cryptographic hash of the previous block, a timestamp, and transaction data. For our blockchain we will be using a SHA-256 hash, the Greenwich Mean Time when the block was created, and text strings as the data.\n",
    "\n",
    "Use your knowledge of linked lists and hashing to create a blockchain implementation.\n"
   ]
  },
  {
   "cell_type": "code",
   "execution_count": 1,
   "metadata": {},
   "outputs": [],
   "source": [
    "import hashlib\n",
    "import datetime as dt"
   ]
  },
  {
   "cell_type": "code",
   "execution_count": 2,
   "metadata": {},
   "outputs": [],
   "source": [
    "class Block:\n",
    "\n",
    "    def __init__(self, index, timestamp, data, previous_hash, block_hash):\n",
    "      self.index = index\n",
    "      self.timestamp = str(timestamp)\n",
    "      self.data = str(data)\n",
    "      self.previous_hash = str(previous_hash)\n",
    "      self.hash = block_hash\n",
    "    \n",
    "    def calc_hash(self, raw_data):\n",
    "      sha = hashlib.sha256()\n",
    "\n",
    "      hash_str = raw_data.encode('utf-8')\n",
    "\n",
    "      sha.update(hash_str)\n",
    "\n",
    "      return sha.hexdigest()"
   ]
  },
  {
   "cell_type": "code",
   "execution_count": 3,
   "metadata": {},
   "outputs": [],
   "source": [
    "class BlockChain:\n",
    "    \n",
    "    def __init__(self):\n",
    "        \n",
    "        data = None\n",
    "        prev_hash = None\n",
    "        \n",
    "        gen_hash = self.calc_hash( str(dt.datetime.now()) + str(data) + str(prev_hash))\n",
    "        self.gen_block = Block(0, dt.datetime.now(), data, prev_hash , gen_hash )\n",
    "        self.block_length = 1\n",
    "        self.last_block = self.gen_block\n",
    "        self.block_map = dict()\n",
    "        self.block_map[gen_hash] = self.gen_block\n",
    "        \n",
    "        \n",
    "    def add_block(self, data):\n",
    "        \n",
    "        block_hash = self.calc_hash(str(dt.datetime.now()) + str(data) + str(self.last_block.hash))\n",
    "        new_block = Block(self.block_length, dt.datetime.now(), data, self.last_block.hash, block_hash )\n",
    "        \n",
    "        self.last_block = new_block\n",
    "        self.block_map[block_hash] = new_block\n",
    "        \n",
    "        self.block_length += 1\n",
    "    \n",
    "    def retrive_by_index(self, index):\n",
    "         \n",
    "        if index not in range(self.block_length):\n",
    "            return 'index {} is out of range'.format(index)\n",
    "        \n",
    "        else:    \n",
    "            block = self.last_block\n",
    "            i = self.block_length\n",
    "            while(i>0):\n",
    "                if block.index == index:\n",
    "                    \n",
    "                    data = {'index': block.index, 'timestamp': block.timestamp, 'data': block.data, 'block hash' : block.hash, 'previous hash': block.previous_hash}\n",
    "                    \n",
    "                    return data\n",
    "                \n",
    "                else:\n",
    "                    block = self.retrive_by_hash(block.previous_hash)\n",
    "   \n",
    "                i -= 1\n",
    "    \n",
    "    def retrive_by_hash(self, block_hash):\n",
    "        \n",
    "        block = self.block_map[block_hash]\n",
    "        \n",
    "        return block\n",
    "        \n",
    "    def calc_hash(self, raw_data):\n",
    "        sha = hashlib.sha256()\n",
    "        hash_str = raw_data.encode('utf-8')\n",
    "        sha.update(hash_str)\n",
    "        return sha.hexdigest()"
   ]
  },
  {
   "cell_type": "code",
   "execution_count": 5,
   "metadata": {},
   "outputs": [
    {
     "name": "stdout",
     "output_type": "stream",
     "text": [
      "index 4 is out of range\n",
      "{'index': 1, 'timestamp': '2020-03-06 22:22:26.671201', 'data': 'block1', 'block hash': '84f2104c420c759c455b35960b3f3abdcf1effef322bef1f392e58ce77177870', 'previous hash': 'adc7817ac20e2769d35cc76c70384dda561ed1963f40d36c8683eaa23f70b4cb'}\n",
      "{'index': 0, 'timestamp': '2020-03-06 22:22:26.671201', 'data': 'None', 'block hash': 'adc7817ac20e2769d35cc76c70384dda561ed1963f40d36c8683eaa23f70b4cb', 'previous hash': 'None'}\n"
     ]
    }
   ],
   "source": [
    "bc = BlockChain()\n",
    "\n",
    "bc.add_block('block1')\n",
    "bc.add_block('block2')\n",
    "bc.add_block('block3')\n",
    "\n",
    "print(bc.retrive_by_index(4))\n",
    "print(bc.retrive_by_index(1))\n",
    "print(bc.retrive_by_index(0))"
   ]
  },
  {
   "cell_type": "markdown",
   "metadata": {},
   "source": [
    "## Comment \n",
    "\n",
    "Since the data are all stored in each block and not in blockchain, the efficiency is O(n) for time and space. "
   ]
  },
  {
   "cell_type": "code",
   "execution_count": null,
   "metadata": {},
   "outputs": [],
   "source": []
  }
 ],
 "metadata": {
  "kernelspec": {
   "display_name": "Python 3",
   "language": "python",
   "name": "python3"
  },
  "language_info": {
   "codemirror_mode": {
    "name": "ipython",
    "version": 3
   },
   "file_extension": ".py",
   "mimetype": "text/x-python",
   "name": "python",
   "nbconvert_exporter": "python",
   "pygments_lexer": "ipython3",
   "version": "3.7.4"
  }
 },
 "nbformat": 4,
 "nbformat_minor": 4
}
